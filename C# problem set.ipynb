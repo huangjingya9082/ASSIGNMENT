{
 "cells": [
  {
   "cell_type": "markdown",
   "metadata": {},
   "source": [
    "# Question 1 c#\n",
    "what data type is each of the following?\n",
    "\n",
    "5\n",
    "5.0\n",
    "5 > 1\n",
    "'5'\n",
    "5 * 2\n",
    "'5' * 2\n",
    "'5' + '2'\n",
    "5 / 2\n",
    "5 // 2\n",
    "[5, 2, 1]\n",
    "5 in [1, 4, 6]\n",
    "P\n",
    "i (the"
   ]
  },
  {
   "cell_type": "markdown",
   "metadata": {},
   "source": [
    "    5    byte\n",
    "    5.0   double\n",
    "    5>1   Boolean\n",
    "    '5'   char\n",
    "    5*2   int\n",
    "    '5'+'2' long\n",
    "    5/2  int\n",
    "    5//2  int\n",
    "    [5,2,1] array\n",
    "    5 in [1,4,6] Null\n",
    "    pi(the number) float\n"
   ]
  },
  {
   "cell_type": "code",
   "execution_count": 13,
   "metadata": {},
   "outputs": [
    {
     "data": {
      "text/plain": [
       "True"
      ]
     },
     "execution_count": 13,
     "metadata": {},
     "output_type": "execute_result"
    }
   ],
   "source": [
    "//Boolean\n",
    "5>1 "
   ]
  },
  {
   "cell_type": "code",
   "execution_count": 15,
   "metadata": {},
   "outputs": [
    {
     "data": {
      "text/plain": [
       "5"
      ]
     },
     "execution_count": 15,
     "metadata": {},
     "output_type": "execute_result"
    }
   ],
   "source": [
    "//Integer\n",
    "'5'"
   ]
  },
  {
   "cell_type": "code",
   "execution_count": 16,
   "metadata": {},
   "outputs": [
    {
     "data": {
      "text/plain": [
       "10"
      ]
     },
     "execution_count": 16,
     "metadata": {},
     "output_type": "execute_result"
    }
   ],
   "source": [
    "//Integer\n",
    "5*2"
   ]
  },
  {
   "cell_type": "code",
   "execution_count": 17,
   "metadata": {},
   "outputs": [
    {
     "data": {
      "text/plain": [
       "106"
      ]
     },
     "execution_count": 17,
     "metadata": {},
     "output_type": "execute_result"
    }
   ],
   "source": [
    "\n",
    "'5'*2 "
   ]
  },
  {
   "cell_type": "code",
   "execution_count": 18,
   "metadata": {},
   "outputs": [
    {
     "data": {
      "text/plain": [
       "5"
      ]
     },
     "execution_count": 18,
     "metadata": {},
     "output_type": "execute_result"
    }
   ],
   "source": [
    "5//2"
   ]
  },
  {
   "cell_type": "code",
   "execution_count": 19,
   "metadata": {},
   "outputs": [
    {
     "data": {
      "text/plain": [
       "2"
      ]
     },
     "execution_count": 19,
     "metadata": {},
     "output_type": "execute_result"
    }
   ],
   "source": [
    "5/2 "
   ]
  },
  {
   "cell_type": "code",
   "execution_count": 1,
   "metadata": {},
   "outputs": [
    {
     "data": {
      "text/plain": [
       "103"
      ]
     },
     "execution_count": 1,
     "metadata": {},
     "output_type": "execute_result"
    }
   ],
   "source": [
    "'5'+'2'"
   ]
  },
  {
   "cell_type": "markdown",
   "metadata": {},
   "source": [
    "# Question 2 C#\n",
    "Write (and evaluate) C# expressions that answer these questions:\n",
    "a. How many letters are there in 'Supercalifragilisticexpialidocious'?\n",
    "b. Does 'Supercalifragilisticexpialidocious' contain 'ice' as a substring?\n",
    "c. Which of the following words is the longest:\n",
    "Supercalifragilisticexpialidocious, Honorificabilitudinitatibus, or\n",
    "Bababadalgharaghtakamminarronnkonn?\n",
    "d. Which composer comes first in the dictionary: 'Berlioz', 'Borodin', 'Brian',\n",
    "'Bartok', 'Bellini', 'Buxtehude', 'Bernstein'. Which one comes last?"
   ]
  },
  {
   "cell_type": "code",
   "execution_count": 35,
   "metadata": {},
   "outputs": [
    {
     "ename": "Unhandled Exception",
     "evalue": "(5,11): error CS0542: 'Program': member names cannot be the same as their enclosing type",
     "output_type": "error",
     "traceback": [
      "(5,11): error CS0542: 'Program': member names cannot be the same as their enclosing type"
     ]
    }
   ],
   "source": [
    "using System;\n",
    "\n",
    "namespace testing\n",
    "{\n",
    "    class Program\n",
    "    {\n",
    "        static void Main(string[] args)\n",
    "        {\n",
    "            int x;\n",
    "            string y = \"Supercalifragilisticexpialidocious\";\n",
    "            x = y.Length;\n",
    "            Console.WriteLine(x);\n",
    "        }\n",
    "    }\n",
    "}"
   ]
  },
  {
   "cell_type": "code",
   "execution_count": 31,
   "metadata": {},
   "outputs": [],
   "source": [
    "using System;\n",
    "\n",
    "public class Program\n",
    "{\n",
    "    public static void Main()\n",
    "    {\n",
    "        bool check = false; \n",
    "        string test1 = \"Supercalifragilisticexpialidocious\";\n",
    "            for(int i = 0; i < test1.Length - 2; i++ ){\n",
    "                if(test1[i]=='i'&test1[i+1]=='c'&test1[i+2]=='e'){\n",
    "                    check = true;\n",
    "                    break;\n",
    "                }\n",
    "            }\n",
    "        if(check == true){\n",
    "            Console.WriteLine(\"Yes， it contains ice\");\n",
    "        }else{\n",
    "            Console.WriteLine(\"No\");\n",
    "        }\n",
    "    }\n",
    "}"
   ]
  },
  {
   "cell_type": "code",
   "execution_count": 33,
   "metadata": {},
   "outputs": [],
   "source": [
    "using System;\n",
    "\n",
    "public class Program\n",
    "{\n",
    "    public static void Main()\n",
    "    {\n",
    "         string first = \"Supercalifragilisticexpialidocious\";\n",
    "            string second = \"Honorificabilitudinitatibus\";\n",
    "            string third = \"Bababadalgharaghtakamminarronnkonn\";\n",
    "            if (first.Length >= second.Length)\n",
    "            {\n",
    "                if (first.Length >= third.Length)\n",
    "                {\n",
    "                    Console.WriteLine(first + \" is the longest!\");\n",
    "                }\n",
    "                else\n",
    "                {\n",
    "                    Console.WriteLine(third + \" is the longest!\");\n",
    "                }\n",
    "            }\n",
    "            else\n",
    "            {\n",
    "                if (second.Length >= third.Length)\n",
    "                {\n",
    "                    Console.WriteLine(second + \" is the longest!\");\n",
    "                }\n",
    "                else\n",
    "                {\n",
    "                    Console.WriteLine(third + \" is the longest!\");\n",
    "                }\n",
    "            }\n",
    "\n",
    "\n",
    "        }\n",
    "    }\n",
    "}"
   ]
  },
  {
   "cell_type": "code",
   "execution_count": null,
   "metadata": {},
   "outputs": [],
   "source": [
    "using System;\n",
    "\n",
    "public class Program\n",
    "{\n",
    "    public static void Main()\n",
    "    {\n",
    "        string[] set1 = {\"Berlioz\", \"Borodin\", \"Brian\",\"Bartok\", \"Bellini\", \"Buxtehude\", \"Bernstein\"};\n",
    "        Array.Sort<string>(set1);\n",
    "        Console.WriteLine(set1[0]);\n",
    "        Console.WriteLine(set1[set1.Length-1]);\n",
    "    }\n",
    "}"
   ]
  },
  {
   "cell_type": "markdown",
   "metadata": {},
   "source": [
    "# Question 3\n",
    "Implement function triangleArea(a,b,c) that takes as input the lengths of the 3\n",
    "sides of a triangle and returns the area of the triangle. By Heron's formula, the area\n",
    "of a triangle with side lengths a, b, and c is\n",
    "s(s - a)(s -b)(s -c), where\n",
    "s = (a + b + c) /2."
   ]
  },
  {
   "cell_type": "code",
   "execution_count": null,
   "metadata": {},
   "outputs": [],
   "source": [
    "using System;\n",
    "\n",
    "public class Program\n",
    "{\n",
    "    public static void Main()\n",
    "    {\n",
    "        double result = trangleArea(2,2,2);\n",
    "        Console.WriteLine(result);\n",
    "    }\n",
    "    static public double trangleArea(double a, double b, double c)\n",
    "    { \n",
    "        double s = (a + b + c)/2;\n",
    "        double result = Math.Sqrt(s(s-a)(s-b)*(s-c));\n",
    "        return result;\n",
    "    }"
   ]
  },
  {
   "cell_type": "markdown",
   "metadata": {},
   "source": [
    "# Question 4\n",
    "Write a program in C# Sharp to separate odd and even integers in separate arrays.\n",
    "Go to the editor\n",
    "\n",
    "Test Data :\n",
    "\n",
    "Input the number of elements to be stored in the array :5\n",
    "\n",
    "Input 5 elements in the array :\n",
    "element - 0 : 25\n",
    "element - 1 : 47\n",
    "element - 2 : 42\n",
    "element - 3 : 56\n",
    "element - 4 : 32\n",
    "\n",
    "Expected Output:\n",
    "\n",
    "The Even elements are:\n",
    "42 56 32\n",
    "\n",
    "The Odd elements are :\n",
    "25 47"
   ]
  },
  {
   "cell_type": "code",
   "execution_count": null,
   "metadata": {},
   "outputs": [],
   "source": [
    "using System;\n",
    "\n",
    "public class Program\n",
    "{\n",
    "    public static void Main()\n",
    "    {\n",
    "        Console.WriteLine(\"Input the number of elements to be stored in the array:\");\n",
    "        int read_num = Convert.ToInt32(Console.ReadLine());\n",
    "        int[] array_input = new int[read_num];\n",
    "        for(int i = 0 ; i < read_num; i++){\n",
    "            Console.WriteLine(\"element - \"+ i +\" : \");\n",
    "            array_input[i] = Convert.ToInt32(Console.ReadLine());\n",
    "        }\n",
    "        Console.WriteLine(\"The Even elements are:\");\n",
    "        for(int i = 0 ; i < read_num; i++){\n",
    "            if(array_input[i]%2 ==0){\n",
    "                Console.WriteLine(array_input[i]);\n",
    "            }\n",
    "        }\n",
    "        Console.WriteLine(\"The Odd elements are:\");\n",
    "        for(int i = 0 ; i < read_num; i++){\n",
    "            if(array_input[i]%2 != 0){\n",
    "                Console.WriteLine(array_input[i]);\n",
    "            }\n",
    "        }\n",
    "    }\n",
    "}"
   ]
  },
  {
   "cell_type": "markdown",
   "metadata": {},
   "source": [
    "# Question 5\n",
    "a. Write a function inside(x,y,x1,y1,x2,y2) that returns True or False depending on whether the point (x,y) lies in the rectangle with lower left corner (x1,y1) and upper right corner (x2,y2).\n",
    ">>> inside(1,1,0,0,2,3)\n",
    "True\n",
    ">>> inside(-1,-1,0,0,2,3)\n",
    "False\n",
    "b. Use function inside() from part a. to write an expression that tests whether the point (1,1) lies in both of the following rectangles: one with lower left corner (0.3, 0.5) and upper right corner (1.1, 0.7) and the other with lower left corner (0.5, 0.2) and upper right corner (1.1, 2)."
   ]
  },
  {
   "cell_type": "code",
   "execution_count": null,
   "metadata": {},
   "outputs": [],
   "source": [
    "using System;\n",
    "\n",
    "public class Program\n",
    "{\n",
    "    public static void Main()\n",
    "    {\n",
    "        Console.WriteLine(\"Input the number of elements to be stored in the array:\");\n",
    "        int read_num = Convert.ToInt32(Console.ReadLine());\n",
    "        int[] array_input = new int[read_num];\n",
    "        for(int i = 0 ; i < read_num; i++){\n",
    "            Console.WriteLine(\"element - \"+ i +\" : \");\n",
    "            array_input[i] = Convert.ToInt32(Console.ReadLine());\n",
    "        }\n",
    "        Console.WriteLine(\"The Even elements are:\");\n",
    "        for(int i = 0 ; i < read_num; i++){\n",
    "            if(array_input[i]%2 ==0){\n",
    "                Console.WriteLine(array_input[i]);\n",
    "            }\n",
    "        }\n",
    "        Console.WriteLine(\"The Odd elements are:\");\n",
    "        for(int i = 0 ; i < read_num; i++){\n",
    "            if(array_input[i]%2 != 0){\n",
    "                Console.WriteLine(array_input[i]);\n",
    "            }\n",
    "        }\n",
    "    }\n",
    "}"
   ]
  },
  {
   "cell_type": "code",
   "execution_count": null,
   "metadata": {},
   "outputs": [],
   "source": [
    "using System;\n",
    "\n",
    "public class Program\n",
    "{\n",
    "    public static void Main()\n",
    "    {\n",
    "        Console.WriteLine(inside(1,1,0,0,2,3));\n",
    "        Console.WriteLine(inside(-1,-1,0,0,2,3));\n",
    "        Console.WriteLine(inside(1,1,0.3,0.5,1.1,0.7));\n",
    "        Console.WriteLine(inside(1,1,0.5,0.2,1.1,2));\n",
    "    }\n",
    "    static public bool inside(double x, double y, double x1, double y1, double x2, double y2){\n",
    "        bool check_result;\n",
    "        if(x >= x1 & x <= x2 & y >=y1 & y <= y2){\n",
    "            check_result = true;\n",
    "        }else{\n",
    "            check_result = false;\n",
    "        }\n",
    "        return check_result;\n",
    "    }\n",
    "}"
   ]
  },
  {
   "cell_type": "markdown",
   "metadata": {},
   "source": [
    "# Question 2-5 output image\n",
    "Question 2-5 does not RUN on Jupternotebook. However it works on visual studio.Here is my output from visual studio"
   ]
  },
  {
   "attachments": {
    "PROGRAMMING.png": {
     "image/png": "[encoded data removed]"
    }
   },
   "cell_type": "markdown",
   "metadata": {},
   "source": [
    "![PROGRAMMING.png](attachment:PROGRAMMING.png)"
   ]
  }
 ],
 "metadata": {
  "kernelspec": {
   "display_name": ".NET (C#)",
   "language": "C#",
   "name": ".net-csharp"
  },
  "language_info": {
   "file_extension": ".cs",
   "mimetype": "text/x-csharp",
   "name": "C#",
   "pygments_lexer": "csharp",
   "version": "8.0"
  }
 },
 "nbformat": 4,
 "nbformat_minor": 4
}
